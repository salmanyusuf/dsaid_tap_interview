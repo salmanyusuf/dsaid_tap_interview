{
 "cells": [
  {
   "cell_type": "code",
   "execution_count": 1,
   "id": "117bf222-e69e-4a6a-a05b-d674dabc3a0a",
   "metadata": {},
   "outputs": [],
   "source": [
    "# Import relevant libraries\n",
    "import pandas as pd\n",
    "import numpy as np\n",
    "import matplotlib.pyplot as plt\n",
    "import seaborn as sns\n",
    "import plotly.express as px\n",
    "from sklearn.linear_model import LinearRegression"
   ]
  },
  {
   "cell_type": "markdown",
   "id": "069f5bba-7e83-4780-a629-c40703b0cf99",
   "metadata": {},
   "source": [
    "# 1. Prediction"
   ]
  },
  {
   "cell_type": "code",
   "execution_count": 2,
   "id": "728a857b-3f07-4111-a8a1-d16a3064758e",
   "metadata": {},
   "outputs": [
    {
     "data": {
      "text/html": [
       "<div>\n",
       "<style scoped>\n",
       "    .dataframe tbody tr th:only-of-type {\n",
       "        vertical-align: middle;\n",
       "    }\n",
       "\n",
       "    .dataframe tbody tr th {\n",
       "        vertical-align: top;\n",
       "    }\n",
       "\n",
       "    .dataframe thead th {\n",
       "        text-align: right;\n",
       "    }\n",
       "</style>\n",
       "<table border=\"1\" class=\"dataframe\">\n",
       "  <thead>\n",
       "    <tr style=\"text-align: right;\">\n",
       "      <th></th>\n",
       "      <th>year</th>\n",
       "      <th>type</th>\n",
       "      <th>age</th>\n",
       "      <th>number_reported</th>\n",
       "      <th>number_passed</th>\n",
       "      <th>passing_rate</th>\n",
       "    </tr>\n",
       "  </thead>\n",
       "  <tbody>\n",
       "    <tr>\n",
       "      <th>0</th>\n",
       "      <td>2006</td>\n",
       "      <td>Cars</td>\n",
       "      <td>1</td>\n",
       "      <td>455</td>\n",
       "      <td>432</td>\n",
       "      <td>94.9</td>\n",
       "    </tr>\n",
       "    <tr>\n",
       "      <th>1</th>\n",
       "      <td>2006</td>\n",
       "      <td>Cars</td>\n",
       "      <td>2</td>\n",
       "      <td>1082</td>\n",
       "      <td>1026</td>\n",
       "      <td>94.8</td>\n",
       "    </tr>\n",
       "    <tr>\n",
       "      <th>2</th>\n",
       "      <td>2006</td>\n",
       "      <td>Cars</td>\n",
       "      <td>3</td>\n",
       "      <td>73558</td>\n",
       "      <td>68432</td>\n",
       "      <td>93.0</td>\n",
       "    </tr>\n",
       "    <tr>\n",
       "      <th>3</th>\n",
       "      <td>2006</td>\n",
       "      <td>Cars</td>\n",
       "      <td>4</td>\n",
       "      <td>627</td>\n",
       "      <td>560</td>\n",
       "      <td>89.3</td>\n",
       "    </tr>\n",
       "    <tr>\n",
       "      <th>4</th>\n",
       "      <td>2006</td>\n",
       "      <td>Cars</td>\n",
       "      <td>5</td>\n",
       "      <td>17963</td>\n",
       "      <td>16716</td>\n",
       "      <td>93.1</td>\n",
       "    </tr>\n",
       "  </tbody>\n",
       "</table>\n",
       "</div>"
      ],
      "text/plain": [
       "   year  type age  number_reported  number_passed  passing_rate\n",
       "0  2006  Cars   1              455            432          94.9\n",
       "1  2006  Cars   2             1082           1026          94.8\n",
       "2  2006  Cars   3            73558          68432          93.0\n",
       "3  2006  Cars   4              627            560          89.3\n",
       "4  2006  Cars   5            17963          16716          93.1"
      ]
     },
     "execution_count": 2,
     "metadata": {},
     "output_type": "execute_result"
    }
   ],
   "source": [
    " # load data\n",
    "data = pd.read_csv(\"data/AnnualMotorVehicleInspectionPassingRateofMotorVehiclesonFirstInspection.csv\")\n",
    "data.head()"
   ]
  },
  {
   "cell_type": "code",
   "execution_count": 3,
   "id": "8e28d026-2b6e-43b8-8d2b-33e77eed3a9c",
   "metadata": {},
   "outputs": [],
   "source": [
    "data = data.loc[data['type']==\"Motorcycles\"]"
   ]
  },
  {
   "cell_type": "markdown",
   "id": "af929a41-2fe2-461b-a93d-8b82586c91b8",
   "metadata": {},
   "source": [
    "## Task 1: What's the average passing rate on first inspection each year, taking into account motorcycles of all age groups?"
   ]
  },
  {
   "cell_type": "code",
   "execution_count": 4,
   "id": "b748e8a4-8552-47b0-823d-d101104ebfb3",
   "metadata": {},
   "outputs": [],
   "source": [
    "avg_pass_data = data.groupby(['year']).mean('passing_rate').reset_index()[['year', 'passing_rate']].rename(columns={'year':'year', 'passing_rate':'avg_passing_rate'})"
   ]
  },
  {
   "cell_type": "code",
   "execution_count": 5,
   "id": "de1a2589-b112-4f93-b388-6d7003449e7e",
   "metadata": {},
   "outputs": [
    {
     "data": {
      "text/html": [
       "<div>\n",
       "<style scoped>\n",
       "    .dataframe tbody tr th:only-of-type {\n",
       "        vertical-align: middle;\n",
       "    }\n",
       "\n",
       "    .dataframe tbody tr th {\n",
       "        vertical-align: top;\n",
       "    }\n",
       "\n",
       "    .dataframe thead th {\n",
       "        text-align: right;\n",
       "    }\n",
       "</style>\n",
       "<table border=\"1\" class=\"dataframe\">\n",
       "  <thead>\n",
       "    <tr style=\"text-align: right;\">\n",
       "      <th></th>\n",
       "      <th>year</th>\n",
       "      <th>avg_passing_rate</th>\n",
       "    </tr>\n",
       "  </thead>\n",
       "  <tbody>\n",
       "    <tr>\n",
       "      <th>0</th>\n",
       "      <td>2006</td>\n",
       "      <td>92.990909</td>\n",
       "    </tr>\n",
       "    <tr>\n",
       "      <th>1</th>\n",
       "      <td>2007</td>\n",
       "      <td>93.686925</td>\n",
       "    </tr>\n",
       "    <tr>\n",
       "      <th>2</th>\n",
       "      <td>2008</td>\n",
       "      <td>93.870527</td>\n",
       "    </tr>\n",
       "    <tr>\n",
       "      <th>3</th>\n",
       "      <td>2009</td>\n",
       "      <td>93.873521</td>\n",
       "    </tr>\n",
       "    <tr>\n",
       "      <th>4</th>\n",
       "      <td>2010</td>\n",
       "      <td>93.981256</td>\n",
       "    </tr>\n",
       "    <tr>\n",
       "      <th>5</th>\n",
       "      <td>2011</td>\n",
       "      <td>94.045351</td>\n",
       "    </tr>\n",
       "    <tr>\n",
       "      <th>6</th>\n",
       "      <td>2012</td>\n",
       "      <td>92.791833</td>\n",
       "    </tr>\n",
       "    <tr>\n",
       "      <th>7</th>\n",
       "      <td>2013</td>\n",
       "      <td>89.050335</td>\n",
       "    </tr>\n",
       "    <tr>\n",
       "      <th>8</th>\n",
       "      <td>2014</td>\n",
       "      <td>83.116493</td>\n",
       "    </tr>\n",
       "    <tr>\n",
       "      <th>9</th>\n",
       "      <td>2015</td>\n",
       "      <td>86.459294</td>\n",
       "    </tr>\n",
       "    <tr>\n",
       "      <th>10</th>\n",
       "      <td>2016</td>\n",
       "      <td>87.506665</td>\n",
       "    </tr>\n",
       "    <tr>\n",
       "      <th>11</th>\n",
       "      <td>2017</td>\n",
       "      <td>87.604945</td>\n",
       "    </tr>\n",
       "  </tbody>\n",
       "</table>\n",
       "</div>"
      ],
      "text/plain": [
       "    year  avg_passing_rate\n",
       "0   2006         92.990909\n",
       "1   2007         93.686925\n",
       "2   2008         93.870527\n",
       "3   2009         93.873521\n",
       "4   2010         93.981256\n",
       "5   2011         94.045351\n",
       "6   2012         92.791833\n",
       "7   2013         89.050335\n",
       "8   2014         83.116493\n",
       "9   2015         86.459294\n",
       "10  2016         87.506665\n",
       "11  2017         87.604945"
      ]
     },
     "execution_count": 5,
     "metadata": {},
     "output_type": "execute_result"
    }
   ],
   "source": [
    "avg_pass_data"
   ]
  },
  {
   "cell_type": "code",
   "execution_count": 6,
   "id": "fe79eca9-9193-459a-a3d3-dfe6bb37308a",
   "metadata": {},
   "outputs": [
    {
     "name": "stdout",
     "output_type": "stream",
     "text": [
      "The average passing rate for the year 2006.0 is 92.99090909090908\n",
      "The average passing rate for the year 2007.0 is 93.68692477454546\n",
      "The average passing rate for the year 2008.0 is 93.87052690363636\n",
      "The average passing rate for the year 2009.0 is 93.87352115272728\n",
      "The average passing rate for the year 2010.0 is 93.98125627636364\n",
      "The average passing rate for the year 2011.0 is 94.04535092\n",
      "The average passing rate for the year 2012.0 is 92.79183262000001\n",
      "The average passing rate for the year 2013.0 is 89.0503348309091\n",
      "The average passing rate for the year 2014.0 is 83.11649264636364\n",
      "The average passing rate for the year 2015.0 is 86.45929362272727\n",
      "The average passing rate for the year 2016.0 is 87.5066648109091\n",
      "The average passing rate for the year 2017.0 is 87.60494546545455\n"
     ]
    }
   ],
   "source": [
    "for index, row in avg_pass_data.iterrows():\n",
    "    print(f\"The average passing rate for the year {row['year']} is {row['avg_passing_rate']}\")"
   ]
  },
  {
   "cell_type": "markdown",
   "id": "de75e87e-c654-42ed-ac1b-ddcd3cd9c291",
   "metadata": {},
   "source": [
    "## Task 2: For motorcycles of each age, estimate their passing rate next year"
   ]
  },
  {
   "cell_type": "code",
   "execution_count": 7,
   "id": "484e2b8c-5511-4c5b-82db-8689ab88dd10",
   "metadata": {},
   "outputs": [
    {
     "data": {
      "text/html": [
       "<div>\n",
       "<style scoped>\n",
       "    .dataframe tbody tr th:only-of-type {\n",
       "        vertical-align: middle;\n",
       "    }\n",
       "\n",
       "    .dataframe tbody tr th {\n",
       "        vertical-align: top;\n",
       "    }\n",
       "\n",
       "    .dataframe thead th {\n",
       "        text-align: right;\n",
       "    }\n",
       "</style>\n",
       "<table border=\"1\" class=\"dataframe\">\n",
       "  <thead>\n",
       "    <tr style=\"text-align: right;\">\n",
       "      <th></th>\n",
       "      <th>year</th>\n",
       "      <th>age</th>\n",
       "      <th>avg_passing_rate</th>\n",
       "    </tr>\n",
       "  </thead>\n",
       "  <tbody>\n",
       "    <tr>\n",
       "      <th>110</th>\n",
       "      <td>2016</td>\n",
       "      <td>1</td>\n",
       "      <td>0.000000</td>\n",
       "    </tr>\n",
       "    <tr>\n",
       "      <th>111</th>\n",
       "      <td>2016</td>\n",
       "      <td>10</td>\n",
       "      <td>96.185936</td>\n",
       "    </tr>\n",
       "    <tr>\n",
       "      <th>112</th>\n",
       "      <td>2016</td>\n",
       "      <td>2</td>\n",
       "      <td>97.142857</td>\n",
       "    </tr>\n",
       "    <tr>\n",
       "      <th>113</th>\n",
       "      <td>2016</td>\n",
       "      <td>3</td>\n",
       "      <td>97.060553</td>\n",
       "    </tr>\n",
       "    <tr>\n",
       "      <th>114</th>\n",
       "      <td>2016</td>\n",
       "      <td>4</td>\n",
       "      <td>96.389363</td>\n",
       "    </tr>\n",
       "    <tr>\n",
       "      <th>115</th>\n",
       "      <td>2016</td>\n",
       "      <td>5</td>\n",
       "      <td>96.380626</td>\n",
       "    </tr>\n",
       "    <tr>\n",
       "      <th>116</th>\n",
       "      <td>2016</td>\n",
       "      <td>6</td>\n",
       "      <td>96.084074</td>\n",
       "    </tr>\n",
       "    <tr>\n",
       "      <th>117</th>\n",
       "      <td>2016</td>\n",
       "      <td>7</td>\n",
       "      <td>96.242638</td>\n",
       "    </tr>\n",
       "    <tr>\n",
       "      <th>118</th>\n",
       "      <td>2016</td>\n",
       "      <td>8</td>\n",
       "      <td>95.936844</td>\n",
       "    </tr>\n",
       "    <tr>\n",
       "      <th>119</th>\n",
       "      <td>2016</td>\n",
       "      <td>9</td>\n",
       "      <td>96.099393</td>\n",
       "    </tr>\n",
       "    <tr>\n",
       "      <th>120</th>\n",
       "      <td>2016</td>\n",
       "      <td>11</td>\n",
       "      <td>95.051028</td>\n",
       "    </tr>\n",
       "  </tbody>\n",
       "</table>\n",
       "</div>"
      ],
      "text/plain": [
       "     year age  avg_passing_rate\n",
       "110  2016   1          0.000000\n",
       "111  2016  10         96.185936\n",
       "112  2016   2         97.142857\n",
       "113  2016   3         97.060553\n",
       "114  2016   4         96.389363\n",
       "115  2016   5         96.380626\n",
       "116  2016   6         96.084074\n",
       "117  2016   7         96.242638\n",
       "118  2016   8         95.936844\n",
       "119  2016   9         96.099393\n",
       "120  2016  11         95.051028"
      ]
     },
     "execution_count": 7,
     "metadata": {},
     "output_type": "execute_result"
    }
   ],
   "source": [
    "age_data = data.groupby(['year', 'age']).mean('passing_rate').reset_index()[['year', 'age', 'passing_rate']].rename(columns={'year':'year', 'age':'age', 'passing_rate':'avg_passing_rate'})\n",
    "age_data['age'] = ['11' if i=='>10' else i for i in age_data['age']]\n",
    "age_data.loc[age_data['year']==2016]"
   ]
  },
  {
   "cell_type": "code",
   "execution_count": 8,
   "id": "cd625326-4c70-44cd-b595-35a7e6b20057",
   "metadata": {},
   "outputs": [],
   "source": [
    "# train/test split\n",
    "next_year = 2017\n",
    "train_data = age_data.loc[age_data['year']!=next_year]\n",
    "test_data = age_data.loc[age_data['year']==next_year]\n",
    "X_train = train_data[['year','age']]\n",
    "y_train = train_data['avg_passing_rate']\n",
    "X_test = test_data[['year','age']]\n",
    "y_test = test_data['avg_passing_rate']"
   ]
  },
  {
   "cell_type": "code",
   "execution_count": 9,
   "id": "cdcb67d6-9f05-4ddd-a31c-5a67e01097ce",
   "metadata": {},
   "outputs": [],
   "source": [
    "# fit model and make predictions\n",
    "regressor = LinearRegression()  \n",
    "model = regressor.fit(X_train, y_train) \n",
    "y_pred = model.predict(X_test)"
   ]
  },
  {
   "cell_type": "code",
   "execution_count": 10,
   "id": "4b29d50c-164c-49c9-b71e-475aaefc2009",
   "metadata": {},
   "outputs": [
    {
     "name": "stdout",
     "output_type": "stream",
     "text": [
      "Mean Absolute Error: 16.59314606001377\n",
      "Mean Squared Error: 692.9497090437392\n",
      "Root Mean Squared Error: 26.323937947118385\n"
     ]
    }
   ],
   "source": [
    "from sklearn import metrics\n",
    "print('Mean Absolute Error:', metrics.mean_absolute_error(y_test, y_pred))  \n",
    "print('Mean Squared Error:', metrics.mean_squared_error(y_test, y_pred))  \n",
    "print('Root Mean Squared Error:', np.sqrt(metrics.mean_squared_error(y_test, y_pred)))"
   ]
  },
  {
   "cell_type": "code",
   "execution_count": 11,
   "id": "8108f7c3-df69-4066-b509-e8067aa49f5a",
   "metadata": {},
   "outputs": [],
   "source": [
    "next_year_rate_df = X_test\n",
    "next_year_rate_df['predicted_avg_passing_rate'] = y_pred\n",
    "next_year_rate_df['actual_avg_passing_rate'] = y_test\n",
    "next_year_rate_df['age'] = ['>10' if i=='11' else i for i in next_year_rate_df['age']]"
   ]
  },
  {
   "cell_type": "code",
   "execution_count": 12,
   "id": "43696b27-3fe6-458d-a110-812f00091259",
   "metadata": {},
   "outputs": [
    {
     "name": "stdout",
     "output_type": "stream",
     "text": [
      "The estimated passing rate for motorcyles aged 1 for next year 2017 is 80.29276357089225\n",
      "The estimated passing rate for motorcyles aged 10 for next year 2017 is 89.8646597871898\n",
      "The estimated passing rate for motorcyles aged 2 for next year 2017 is 81.35630759492528\n",
      "The estimated passing rate for motorcyles aged 3 for next year 2017 is 82.41985161895832\n",
      "The estimated passing rate for motorcyles aged 4 for next year 2017 is 83.48339564299135\n",
      "The estimated passing rate for motorcyles aged 5 for next year 2017 is 84.54693966702439\n",
      "The estimated passing rate for motorcyles aged 6 for next year 2017 is 85.61048369105765\n",
      "The estimated passing rate for motorcyles aged 7 for next year 2017 is 86.67402771509069\n",
      "The estimated passing rate for motorcyles aged 8 for next year 2017 is 87.73757173912372\n",
      "The estimated passing rate for motorcyles aged 9 for next year 2017 is 88.80111576315676\n",
      "The estimated passing rate for motorcyles aged >10 for next year 2017 is 90.92820381122283\n"
     ]
    }
   ],
   "source": [
    "for index, row in next_year_rate_df.iterrows():\n",
    "    print(f\"The estimated passing rate for motorcyles aged {row['age']} for next year {row['year']} is {row['predicted_avg_passing_rate']}\")"
   ]
  },
  {
   "cell_type": "markdown",
   "id": "9288dd4a-ac4e-460a-afd2-99d58680b634",
   "metadata": {},
   "source": [
    "## Task 3: Assuming your estimated rates are true, can you suggest a sensible range of possible passing ranges for motorcycles in the 5-year age group next year (2017), with at least 95% possibility of including the actual passing rate? If you can come up with multiple ranges that meet this criteria, use the one with the narrowest range. You may assume the number of motorcycles is the same as the number in the 4-year age group in the previous year."
   ]
  },
  {
   "cell_type": "code",
   "execution_count": 13,
   "id": "f8605443-fc5f-4ed0-8ad8-0e22eb5a59b2",
   "metadata": {},
   "outputs": [
    {
     "data": {
      "text/plain": [
       "84.54693966702439"
      ]
     },
     "execution_count": 13,
     "metadata": {},
     "output_type": "execute_result"
    }
   ],
   "source": [
    "estimated_rate = next_year_rate_df.loc[next_year_rate_df['age'] == '5']['predicted_avg_passing_rate'].values[0]\n",
    "estimated_rate"
   ]
  },
  {
   "cell_type": "code",
   "execution_count": 14,
   "id": "70a0f40f-3f83-46aa-96a5-2ce08dd6f542",
   "metadata": {},
   "outputs": [],
   "source": [
    "total_number = data.loc[(data['year']==2016) & (data['age']=='4')]['number_reported'].values[0]\n",
    "pass_rate = data.loc[(data['year']==2016) & (data['age']=='4')]['passing_rate'].values[0]"
   ]
  },
  {
   "cell_type": "code",
   "execution_count": 15,
   "id": "5988177b-d347-4f68-b875-3595c3ad6f5d",
   "metadata": {},
   "outputs": [
    {
     "data": {
      "text/plain": [
       "(82.58668623322224, 86.50719310082654)"
      ]
     },
     "execution_count": 15,
     "metadata": {},
     "output_type": "execute_result"
    }
   ],
   "source": [
    "# 95% confidence interval\n",
    "import scipy.stats as st\n",
    "st.t.interval(confidence=0.95, df=total_number-1, loc=estimated_rate)"
   ]
  },
  {
   "cell_type": "markdown",
   "id": "84b3ed99-735d-413a-aca8-7787add4408e",
   "metadata": {},
   "source": [
    "# 2. Association"
   ]
  },
  {
   "cell_type": "code",
   "execution_count": 16,
   "id": "7d55265b-39a8-4598-a541-785942ee3209",
   "metadata": {},
   "outputs": [
    {
     "data": {
      "text/html": [
       "<div>\n",
       "<style scoped>\n",
       "    .dataframe tbody tr th:only-of-type {\n",
       "        vertical-align: middle;\n",
       "    }\n",
       "\n",
       "    .dataframe tbody tr th {\n",
       "        vertical-align: top;\n",
       "    }\n",
       "\n",
       "    .dataframe thead th {\n",
       "        text-align: right;\n",
       "    }\n",
       "</style>\n",
       "<table border=\"1\" class=\"dataframe\">\n",
       "  <thead>\n",
       "    <tr style=\"text-align: right;\">\n",
       "      <th></th>\n",
       "      <th>salesperson_name</th>\n",
       "      <th>transaction_date</th>\n",
       "      <th>salesperson_reg_num</th>\n",
       "      <th>property_type</th>\n",
       "      <th>transaction_type</th>\n",
       "      <th>represented</th>\n",
       "      <th>town</th>\n",
       "      <th>district</th>\n",
       "      <th>general_location</th>\n",
       "    </tr>\n",
       "  </thead>\n",
       "  <tbody>\n",
       "    <tr>\n",
       "      <th>0</th>\n",
       "      <td>SOH HUI HUA</td>\n",
       "      <td>OCT-2017</td>\n",
       "      <td>P000003I</td>\n",
       "      <td>HDB</td>\n",
       "      <td>RESALE</td>\n",
       "      <td>SELLER</td>\n",
       "      <td>YISHUN</td>\n",
       "      <td>-</td>\n",
       "      <td>-</td>\n",
       "    </tr>\n",
       "    <tr>\n",
       "      <th>1</th>\n",
       "      <td>SOH HUI HUA</td>\n",
       "      <td>MAR-2018</td>\n",
       "      <td>P000003I</td>\n",
       "      <td>HDB</td>\n",
       "      <td>RESALE</td>\n",
       "      <td>BUYER</td>\n",
       "      <td>KALLANG/WHAMPOA</td>\n",
       "      <td>-</td>\n",
       "      <td>-</td>\n",
       "    </tr>\n",
       "    <tr>\n",
       "      <th>2</th>\n",
       "      <td>SOH HUI HUA</td>\n",
       "      <td>JAN-2017</td>\n",
       "      <td>P000003I</td>\n",
       "      <td>HDB</td>\n",
       "      <td>RESALE</td>\n",
       "      <td>BUYER</td>\n",
       "      <td>YISHUN</td>\n",
       "      <td>-</td>\n",
       "      <td>-</td>\n",
       "    </tr>\n",
       "    <tr>\n",
       "      <th>3</th>\n",
       "      <td>SOH HUI HUA</td>\n",
       "      <td>MAY-2018</td>\n",
       "      <td>P000003I</td>\n",
       "      <td>HDB</td>\n",
       "      <td>RESALE</td>\n",
       "      <td>SELLER</td>\n",
       "      <td>CHOA CHU KANG</td>\n",
       "      <td>-</td>\n",
       "      <td>-</td>\n",
       "    </tr>\n",
       "    <tr>\n",
       "      <th>4</th>\n",
       "      <td>SOH HUI HUA</td>\n",
       "      <td>NOV-2017</td>\n",
       "      <td>P000003I</td>\n",
       "      <td>HDB</td>\n",
       "      <td>RESALE</td>\n",
       "      <td>SELLER</td>\n",
       "      <td>CHOA CHU KANG</td>\n",
       "      <td>-</td>\n",
       "      <td>-</td>\n",
       "    </tr>\n",
       "  </tbody>\n",
       "</table>\n",
       "</div>"
      ],
      "text/plain": [
       "  salesperson_name transaction_date salesperson_reg_num property_type  \\\n",
       "0      SOH HUI HUA         OCT-2017            P000003I           HDB   \n",
       "1      SOH HUI HUA         MAR-2018            P000003I           HDB   \n",
       "2      SOH HUI HUA         JAN-2017            P000003I           HDB   \n",
       "3      SOH HUI HUA         MAY-2018            P000003I           HDB   \n",
       "4      SOH HUI HUA         NOV-2017            P000003I           HDB   \n",
       "\n",
       "  transaction_type represented             town district general_location  \n",
       "0           RESALE      SELLER           YISHUN        -                -  \n",
       "1           RESALE       BUYER  KALLANG/WHAMPOA        -                -  \n",
       "2           RESALE       BUYER           YISHUN        -                -  \n",
       "3           RESALE      SELLER    CHOA CHU KANG        -                -  \n",
       "4           RESALE      SELLER    CHOA CHU KANG        -                -  "
      ]
     },
     "execution_count": 16,
     "metadata": {},
     "output_type": "execute_result"
    }
   ],
   "source": [
    " # load data\n",
    "data = pd.read_csv(\"data/CEASalespersonsPropertyTransactionRecordsresidential.csv\")\n",
    "data.head()"
   ]
  },
  {
   "cell_type": "code",
   "execution_count": 17,
   "id": "fe70ea05-5ce4-44b2-915c-58042d7f329d",
   "metadata": {},
   "outputs": [],
   "source": [
    "data = data.loc[data['represented']=='SELLER']"
   ]
  },
  {
   "cell_type": "markdown",
   "id": "a00f34f1-3398-4811-b4ca-b1e79ae1987d",
   "metadata": {},
   "source": [
    "## Task 1: Based on the dataset, how many sales would you expect an agent to close each year? How much variation is there among agents?"
   ]
  },
  {
   "cell_type": "code",
   "execution_count": 18,
   "id": "8beba26a-adb1-4bfc-9a02-2878a4c92323",
   "metadata": {},
   "outputs": [],
   "source": [
    "transaction_year = [i.split(\"-\")[1] for i in data['transaction_date']]\n",
    "data['transaction_year'] = transaction_year"
   ]
  },
  {
   "cell_type": "code",
   "execution_count": 19,
   "id": "b0841a25-f6ca-4965-9ef3-7a13c66033bd",
   "metadata": {},
   "outputs": [
    {
     "data": {
      "text/html": [
       "<div>\n",
       "<style scoped>\n",
       "    .dataframe tbody tr th:only-of-type {\n",
       "        vertical-align: middle;\n",
       "    }\n",
       "\n",
       "    .dataframe tbody tr th {\n",
       "        vertical-align: top;\n",
       "    }\n",
       "\n",
       "    .dataframe thead th {\n",
       "        text-align: right;\n",
       "    }\n",
       "</style>\n",
       "<table border=\"1\" class=\"dataframe\">\n",
       "  <thead>\n",
       "    <tr style=\"text-align: right;\">\n",
       "      <th></th>\n",
       "      <th>transaction_year</th>\n",
       "      <th>count</th>\n",
       "    </tr>\n",
       "  </thead>\n",
       "  <tbody>\n",
       "    <tr>\n",
       "      <th>6</th>\n",
       "      <td>2017</td>\n",
       "      <td>18670</td>\n",
       "    </tr>\n",
       "    <tr>\n",
       "      <th>3</th>\n",
       "      <td>2018</td>\n",
       "      <td>22405</td>\n",
       "    </tr>\n",
       "    <tr>\n",
       "      <th>5</th>\n",
       "      <td>2019</td>\n",
       "      <td>19411</td>\n",
       "    </tr>\n",
       "    <tr>\n",
       "      <th>2</th>\n",
       "      <td>2020</td>\n",
       "      <td>36998</td>\n",
       "    </tr>\n",
       "    <tr>\n",
       "      <th>0</th>\n",
       "      <td>2021</td>\n",
       "      <td>56395</td>\n",
       "    </tr>\n",
       "    <tr>\n",
       "      <th>1</th>\n",
       "      <td>2022</td>\n",
       "      <td>44310</td>\n",
       "    </tr>\n",
       "    <tr>\n",
       "      <th>4</th>\n",
       "      <td>2023</td>\n",
       "      <td>21701</td>\n",
       "    </tr>\n",
       "  </tbody>\n",
       "</table>\n",
       "</div>"
      ],
      "text/plain": [
       "  transaction_year  count\n",
       "6             2017  18670\n",
       "3             2018  22405\n",
       "5             2019  19411\n",
       "2             2020  36998\n",
       "0             2021  56395\n",
       "1             2022  44310\n",
       "4             2023  21701"
      ]
     },
     "execution_count": 19,
     "metadata": {},
     "output_type": "execute_result"
    }
   ],
   "source": [
    "year_counts = data['transaction_year'].value_counts().reset_index().sort_values(\"transaction_year\")\n",
    "year_counts"
   ]
  },
  {
   "cell_type": "code",
   "execution_count": 20,
   "id": "ffb391bf-2d46-42eb-9de0-06fa7c600fae",
   "metadata": {},
   "outputs": [],
   "source": [
    "col_mapper = {'transaction_year':'transaction_year', 'salesperson_name':'salesperson_name', 'salesperson_reg_num':'salesperson_reg_num', 0:'count'}\n",
    "yearly_agent_sales = data.groupby(['transaction_year', 'salesperson_name', 'salesperson_reg_num']).size().reset_index().rename(columns=col_mapper)"
   ]
  },
  {
   "cell_type": "code",
   "execution_count": 21,
   "id": "934af9e6-9f39-4cb3-aa3c-874c67756267",
   "metadata": {},
   "outputs": [
    {
     "name": "stdout",
     "output_type": "stream",
     "text": [
      "For the year 2017, an agent on average would be expected to close 2.7786873046584315 sales.\n",
      "For the year 2018, an agent on average would be expected to close 3.0272936089717604 sales.\n",
      "For the year 2019, an agent on average would be expected to close 2.862979351032448 sales.\n",
      "For the year 2020, an agent on average would be expected to close 3.5293332061432796 sales.\n",
      "For the year 2021, an agent on average would be expected to close 4.448958662038498 sales.\n",
      "For the year 2022, an agent on average would be expected to close 3.5298335059348362 sales.\n",
      "For the year 2023, an agent on average would be expected to close 2.389977973568282 sales.\n"
     ]
    }
   ],
   "source": [
    "years = yearly_agent_sales['transaction_year'].unique()\n",
    "for year in years:\n",
    "    temp = yearly_agent_sales.loc[yearly_agent_sales['transaction_year']==year]\n",
    "    avg_sales = temp['count'].sum()/temp.shape[0]\n",
    "    print(f\"For the year {year}, an agent on average would be expected to close {avg_sales} sales.\")"
   ]
  },
  {
   "cell_type": "code",
   "execution_count": 22,
   "id": "a1b1138d-ecb0-488d-9c2e-07616fb32c2d",
   "metadata": {},
   "outputs": [],
   "source": [
    "total_agent_sales = yearly_agent_sales.groupby('salesperson_name').sum('count').sort_values('count').reset_index()"
   ]
  },
  {
   "cell_type": "code",
   "execution_count": 23,
   "id": "fb50abb5-8195-4bc2-b72a-dab08b2abf72",
   "metadata": {},
   "outputs": [
    {
     "name": "stdout",
     "output_type": "stream",
     "text": [
      "The variance among agents is about 503.7402274619386\n"
     ]
    }
   ],
   "source": [
    "import statistics as st\n",
    "print(f\"The variance among agents is about {st.variance(total_agent_sales['count'])}\")"
   ]
  },
  {
   "cell_type": "markdown",
   "id": "e9a95900-a667-41e5-872d-7cec8d2fe747",
   "metadata": {},
   "source": [
    "## Task 2: Examine the distribution for number of sales closed by an agent in a year & suggest a probability distribution that may be suitable for modelling this set of values. What are some ways in which your suggested distribution is appropriate? What are some of its limitations?\n",
    "\n",
    "Let's look at KUAH KAI PIN, KAVIN's sales in 2020."
   ]
  },
  {
   "cell_type": "code",
   "execution_count": 24,
   "id": "947a833a-7e90-4b89-a425-81e3431e16cf",
   "metadata": {},
   "outputs": [],
   "source": [
    "kavin = data.loc[(data['salesperson_name'] == 'KUAH KAI PIN, KAVIN') & (data['transaction_year']=='2020')]"
   ]
  },
  {
   "cell_type": "code",
   "execution_count": 25,
   "id": "12da2724-44e9-420c-a6f5-619eef03f680",
   "metadata": {},
   "outputs": [
    {
     "name": "stderr",
     "output_type": "stream",
     "text": [
      "/opt/anaconda3/envs/dsaid_tap_interview/lib/python3.10/site-packages/seaborn/_oldcore.py:1498: FutureWarning: is_categorical_dtype is deprecated and will be removed in a future version. Use isinstance(dtype, CategoricalDtype) instead\n",
      "  if pd.api.types.is_categorical_dtype(vector):\n",
      "/opt/anaconda3/envs/dsaid_tap_interview/lib/python3.10/site-packages/seaborn/_oldcore.py:1498: FutureWarning: is_categorical_dtype is deprecated and will be removed in a future version. Use isinstance(dtype, CategoricalDtype) instead\n",
      "  if pd.api.types.is_categorical_dtype(vector):\n",
      "/opt/anaconda3/envs/dsaid_tap_interview/lib/python3.10/site-packages/seaborn/_oldcore.py:1119: FutureWarning: use_inf_as_na option is deprecated and will be removed in a future version. Convert inf values to NaN before operating instead.\n",
      "  with pd.option_context('mode.use_inf_as_na', True):\n"
     ]
    },
    {
     "data": {
      "text/plain": [
       "<Axes: xlabel='transaction_date', ylabel='Count'>"
      ]
     },
     "execution_count": 25,
     "metadata": {},
     "output_type": "execute_result"
    },
    {
     "data": {
      "image/png": "[encoded data removed]",
      "text/plain": [
       "<Figure size 640x480 with 1 Axes>"
      ]
     },
     "metadata": {},
     "output_type": "display_data"
    }
   ],
   "source": [
    "sns.histplot(data=kavin, x='transaction_date')"
   ]
  },
  {
   "cell_type": "markdown",
   "id": "f5f8aabb-3ab4-45e8-8581-e97b74574077",
   "metadata": {},
   "source": [
    "Looking at the histogram plot above, we can see 2 distinct peaks in the plot, one occurring in the month of March and the other in the month of September. This pattern suggests a bimodal distribution that could potentially be suitable for modelling this set of values. For instance, it could provide some underlying patterns of sellers that explain the higher sales in certain months and lower sales in others. However, some limitations of this distribution include factors that impact selling of houses. For instance, in an economic downturn or a global pandemic like Covid-19, there would be fewer buyers in the market, resulting in fewer houses being sold."
   ]
  },
  {
   "cell_type": "markdown",
   "id": "23a0d3c1-9809-4262-ae63-bcb31c8d5b50",
   "metadata": {},
   "source": [
    "## Task 3: Property agents tend to specialise in one or more specific geographical areas, rather than ply their trade equally island-wide. Given a property agent who has closed sales in Sembawang and Yishun during a given year, which other town is he/she most likely to be active in that year? (Note: you may wish to use association rules for this task.)"
   ]
  },
  {
   "cell_type": "code",
   "execution_count": 26,
   "id": "61f1bcbb-c46f-4776-9a2c-5c8fb572c679",
   "metadata": {},
   "outputs": [],
   "source": [
    "town_df = data.groupby(['transaction_year'])['town'].apply(list).reset_index()\n",
    "town_df['town'] = town_df['town'].apply(lambda x: str(x).replace('[','').replace(']','').replace('\\'', ''))\n",
    "filtered_town_df = town_df.loc[town_df[\"town\"].str.contains(\"SEMBAWANG|YISHUN\")]\n",
    "filtered_town_df['town'] = filtered_town_df['town'].apply(lambda x: x.split(', '))"
   ]
  },
  {
   "cell_type": "code",
   "execution_count": 27,
   "id": "5e3c32be-82b4-4ffa-9d6d-bc927323bcc4",
   "metadata": {},
   "outputs": [
    {
     "data": {
      "text/html": [
       "<div>\n",
       "<style scoped>\n",
       "    .dataframe tbody tr th:only-of-type {\n",
       "        vertical-align: middle;\n",
       "    }\n",
       "\n",
       "    .dataframe tbody tr th {\n",
       "        vertical-align: top;\n",
       "    }\n",
       "\n",
       "    .dataframe thead th {\n",
       "        text-align: right;\n",
       "    }\n",
       "</style>\n",
       "<table border=\"1\" class=\"dataframe\">\n",
       "  <thead>\n",
       "    <tr style=\"text-align: right;\">\n",
       "      <th></th>\n",
       "      <th>transaction_year</th>\n",
       "      <th>town</th>\n",
       "    </tr>\n",
       "  </thead>\n",
       "  <tbody>\n",
       "    <tr>\n",
       "      <th>0</th>\n",
       "      <td>2017</td>\n",
       "      <td>[YISHUN, CHOA CHU KANG, WOODLANDS, TAMPINES, T...</td>\n",
       "    </tr>\n",
       "    <tr>\n",
       "      <th>1</th>\n",
       "      <td>2018</td>\n",
       "      <td>[CHOA CHU KANG, SEMBAWANG, JURONG WEST, CENTRA...</td>\n",
       "    </tr>\n",
       "    <tr>\n",
       "      <th>2</th>\n",
       "      <td>2019</td>\n",
       "      <td>[SEMBAWANG, JURONG WEST, YISHUN, PASIR RIS, GE...</td>\n",
       "    </tr>\n",
       "    <tr>\n",
       "      <th>3</th>\n",
       "      <td>2020</td>\n",
       "      <td>[QUEENSTOWN, SERANGOON, BUKIT PANJANG, TOA PAY...</td>\n",
       "    </tr>\n",
       "    <tr>\n",
       "      <th>4</th>\n",
       "      <td>2021</td>\n",
       "      <td>[PASIR RIS, ANG MO KIO, CLEMENTI, CENTRAL AREA...</td>\n",
       "    </tr>\n",
       "    <tr>\n",
       "      <th>5</th>\n",
       "      <td>2022</td>\n",
       "      <td>[BISHAN, PUNGGOL, YISHUN, JURONG EAST, PUNGGOL...</td>\n",
       "    </tr>\n",
       "    <tr>\n",
       "      <th>6</th>\n",
       "      <td>2023</td>\n",
       "      <td>[ANG MO KIO, CLEMENTI, TAMPINES, BUKIT BATOK, ...</td>\n",
       "    </tr>\n",
       "  </tbody>\n",
       "</table>\n",
       "</div>"
      ],
      "text/plain": [
       "  transaction_year                                               town\n",
       "0             2017  [YISHUN, CHOA CHU KANG, WOODLANDS, TAMPINES, T...\n",
       "1             2018  [CHOA CHU KANG, SEMBAWANG, JURONG WEST, CENTRA...\n",
       "2             2019  [SEMBAWANG, JURONG WEST, YISHUN, PASIR RIS, GE...\n",
       "3             2020  [QUEENSTOWN, SERANGOON, BUKIT PANJANG, TOA PAY...\n",
       "4             2021  [PASIR RIS, ANG MO KIO, CLEMENTI, CENTRAL AREA...\n",
       "5             2022  [BISHAN, PUNGGOL, YISHUN, JURONG EAST, PUNGGOL...\n",
       "6             2023  [ANG MO KIO, CLEMENTI, TAMPINES, BUKIT BATOK, ..."
      ]
     },
     "execution_count": 27,
     "metadata": {},
     "output_type": "execute_result"
    }
   ],
   "source": [
    "filtered_town_df"
   ]
  },
  {
   "cell_type": "code",
   "execution_count": 28,
   "id": "a2f2040e-8bec-49db-b184-0d6a67f6f408",
   "metadata": {},
   "outputs": [
    {
     "name": "stdout",
     "output_type": "stream",
     "text": [
      "Given a property agent who has closed sales in Sembawang and Yishun during 2017, he/she is most likely to be active WOODLANDS in that year.\n",
      "Given a property agent who has closed sales in Sembawang and Yishun during 2018, he/she is most likely to be active WOODLANDS in that year.\n",
      "Given a property agent who has closed sales in Sembawang and Yishun during 2019, he/she is most likely to be active WOODLANDS in that year.\n",
      "Given a property agent who has closed sales in Sembawang and Yishun during 2020, he/she is most likely to be active WOODLANDS in that year.\n",
      "Given a property agent who has closed sales in Sembawang and Yishun during 2021, he/she is most likely to be active WOODLANDS in that year.\n",
      "Given a property agent who has closed sales in Sembawang and Yishun during 2022, he/she is most likely to be active WOODLANDS in that year.\n",
      "Given a property agent who has closed sales in Sembawang and Yishun during 2023, he/she is most likely to be active WOODLANDS in that year.\n"
     ]
    }
   ],
   "source": [
    "result = {}\n",
    "for index, row in filtered_town_df.iterrows():\n",
    "    year = row['transaction_year']\n",
    "    towns = row['town']\n",
    "    towns = [i for i in towns if (i != 'YISHUN') & (i != 'SENBAWANG')]\n",
    "    unique_towns = list(set(towns))\n",
    "    result[year] = {}\n",
    "    for town in unique_towns:\n",
    "        result[year][town] = towns.count(town)\n",
    "\n",
    "for year, town_counts in result.items():\n",
    "    max_town = max(town_counts)\n",
    "    print(f\"Given a property agent who has closed sales in Sembawang and Yishun during {year}, he/she is most likely to be active {max_town} in that year.\") \n",
    "    "
   ]
  },
  {
   "cell_type": "markdown",
   "id": "fc0dd739-ad0f-4cf8-8eb3-7303438d5eef",
   "metadata": {},
   "source": [
    "By rule of association, Woodlands is belongs very close to the regions of Sembawang and Yishun, hence the result makes sense."
   ]
  },
  {
   "cell_type": "markdown",
   "id": "ac709876-d35b-4f0e-b919-f67cf7f440ba",
   "metadata": {},
   "source": [
    "# 3. Classification"
   ]
  },
  {
   "cell_type": "code",
   "execution_count": 29,
   "id": "733f08b4-8d4b-458f-8282-2f97b35115f9",
   "metadata": {},
   "outputs": [],
   "source": [
    "import json\n",
    "with open(\"data/WirelessHotSpotsGEOJSON.geojson\") as f:\n",
    "    json = json.load(f)\n",
    "\n",
    "json = json['features']\n",
    "data = []"
   ]
  },
  {
   "cell_type": "code",
   "execution_count": 30,
   "id": "7e39f11e-07d0-48ab-aef3-c47d5a9462f4",
   "metadata": {},
   "outputs": [],
   "source": [
    "for each in json:\n",
    "    \n",
    "    hotspot_name = each['properties']['Name']\n",
    "    loc_name = each['properties']['Description'].split('<th>')[3].split('<td>')[1].split('</td>')[0]\n",
    "    loc_type = each['properties']['Description'].split('<th>')[4].split('<td>')[1].split('</td>')[0]\n",
    "    postal = each['properties']['Description'].split('<th>')[5].split('<td>')[1].split('</td>')[0]\n",
    "    address = each['properties']['Description'].split('<th>')[6].split('<td>')[1].split('</td>')[0]\n",
    "    operator = each['properties']['Description'].split('<th>')[7].split('<td>')[1].split('</td>')[0]\n",
    "    longitude = each['geometry']['coordinates'][0]\n",
    "    latitude = each['geometry']['coordinates'][1]\n",
    "    \n",
    "    temp = [hotspot_name, loc_name, loc_type, postal, address, operator, longitude, latitude]\n",
    "    \n",
    "    data.append(temp)"
   ]
  },
  {
   "cell_type": "code",
   "execution_count": 31,
   "id": "1e2f6a4f-2d54-468c-a220-872abc22cd95",
   "metadata": {},
   "outputs": [
    {
     "data": {
      "text/html": [
       "<div>\n",
       "<style scoped>\n",
       "    .dataframe tbody tr th:only-of-type {\n",
       "        vertical-align: middle;\n",
       "    }\n",
       "\n",
       "    .dataframe tbody tr th {\n",
       "        vertical-align: top;\n",
       "    }\n",
       "\n",
       "    .dataframe thead th {\n",
       "        text-align: right;\n",
       "    }\n",
       "</style>\n",
       "<table border=\"1\" class=\"dataframe\">\n",
       "  <thead>\n",
       "    <tr style=\"text-align: right;\">\n",
       "      <th></th>\n",
       "      <th>name</th>\n",
       "      <th>location_name</th>\n",
       "      <th>location_type</th>\n",
       "      <th>postal_code</th>\n",
       "      <th>street_address</th>\n",
       "      <th>operator_name</th>\n",
       "      <th>longitude</th>\n",
       "      <th>latitude</th>\n",
       "    </tr>\n",
       "  </thead>\n",
       "  <tbody>\n",
       "    <tr>\n",
       "      <th>0</th>\n",
       "      <td>kml_1</td>\n",
       "      <td>Bukit Batok CC</td>\n",
       "      <td>Community</td>\n",
       "      <td>659959</td>\n",
       "      <td>21 Bukit Batok Central</td>\n",
       "      <td>M1</td>\n",
       "      <td>103.747514</td>\n",
       "      <td>1.350191</td>\n",
       "    </tr>\n",
       "    <tr>\n",
       "      <th>1</th>\n",
       "      <td>kml_2</td>\n",
       "      <td>1 Northpoint Drive</td>\n",
       "      <td>Community</td>\n",
       "      <td>768019</td>\n",
       "      <td>1 Northpoint Drive</td>\n",
       "      <td>M1</td>\n",
       "      <td>103.836092</td>\n",
       "      <td>1.428036</td>\n",
       "    </tr>\n",
       "    <tr>\n",
       "      <th>2</th>\n",
       "      <td>kml_3</td>\n",
       "      <td>155 Waterloo St</td>\n",
       "      <td>Government</td>\n",
       "      <td>187962</td>\n",
       "      <td>155 Waterloo Street</td>\n",
       "      <td>M1</td>\n",
       "      <td>103.852975</td>\n",
       "      <td>1.300197</td>\n",
       "    </tr>\n",
       "    <tr>\n",
       "      <th>3</th>\n",
       "      <td>kml_4</td>\n",
       "      <td>20 Upper Pickering St</td>\n",
       "      <td>Community</td>\n",
       "      <td>058284</td>\n",
       "      <td>20 Upper Pickering Street</td>\n",
       "      <td>M1</td>\n",
       "      <td>103.846479</td>\n",
       "      <td>1.286329</td>\n",
       "    </tr>\n",
       "    <tr>\n",
       "      <th>4</th>\n",
       "      <td>kml_5</td>\n",
       "      <td>7 Star Canteen</td>\n",
       "      <td>F&amp;B</td>\n",
       "      <td>540338</td>\n",
       "      <td>338 Anchorvale Crescent</td>\n",
       "      <td>M1</td>\n",
       "      <td>103.889654</td>\n",
       "      <td>1.399229</td>\n",
       "    </tr>\n",
       "    <tr>\n",
       "      <th>...</th>\n",
       "      <td>...</td>\n",
       "      <td>...</td>\n",
       "      <td>...</td>\n",
       "      <td>...</td>\n",
       "      <td>...</td>\n",
       "      <td>...</td>\n",
       "      <td>...</td>\n",
       "      <td>...</td>\n",
       "    </tr>\n",
       "    <tr>\n",
       "      <th>1795</th>\n",
       "      <td>kml_1796</td>\n",
       "      <td>Whampoa Market</td>\n",
       "      <td>F&amp;B</td>\n",
       "      <td>320091</td>\n",
       "      <td>91 Whampoa Drive</td>\n",
       "      <td>Singtel</td>\n",
       "      <td>103.854060</td>\n",
       "      <td>1.323428</td>\n",
       "    </tr>\n",
       "    <tr>\n",
       "      <th>1796</th>\n",
       "      <td>kml_1797</td>\n",
       "      <td>Woodleigh - NEL</td>\n",
       "      <td>Public Transport</td>\n",
       "      <td>347695</td>\n",
       "      <td>400 Upper Serangoon Road</td>\n",
       "      <td>Singtel</td>\n",
       "      <td>103.870818</td>\n",
       "      <td>1.339190</td>\n",
       "    </tr>\n",
       "    <tr>\n",
       "      <th>1797</th>\n",
       "      <td>kml_1798</td>\n",
       "      <td>Yishun MRT - NSL</td>\n",
       "      <td>Public Transport</td>\n",
       "      <td>769093</td>\n",
       "      <td>301 Yishun Avenue 2</td>\n",
       "      <td>Singtel</td>\n",
       "      <td>103.834995</td>\n",
       "      <td>1.429525</td>\n",
       "    </tr>\n",
       "    <tr>\n",
       "      <th>1798</th>\n",
       "      <td>kml_1799</td>\n",
       "      <td>Yuhua Place</td>\n",
       "      <td>F&amp;B</td>\n",
       "      <td>600347</td>\n",
       "      <td>347 Jurong East Avenue 1</td>\n",
       "      <td>Singtel</td>\n",
       "      <td>103.731580</td>\n",
       "      <td>1.345313</td>\n",
       "    </tr>\n",
       "    <tr>\n",
       "      <th>1799</th>\n",
       "      <td>kml_1800</td>\n",
       "      <td>Yuhua Village</td>\n",
       "      <td>F&amp;B</td>\n",
       "      <td>600254</td>\n",
       "      <td>254 Jurong East Street 24</td>\n",
       "      <td>Singtel</td>\n",
       "      <td>103.737738</td>\n",
       "      <td>1.343488</td>\n",
       "    </tr>\n",
       "  </tbody>\n",
       "</table>\n",
       "<p>1800 rows × 8 columns</p>\n",
       "</div>"
      ],
      "text/plain": [
       "          name          location_name     location_type postal_code  \\\n",
       "0        kml_1         Bukit Batok CC         Community      659959   \n",
       "1        kml_2     1 Northpoint Drive         Community      768019   \n",
       "2        kml_3        155 Waterloo St        Government      187962   \n",
       "3        kml_4  20 Upper Pickering St         Community      058284   \n",
       "4        kml_5         7 Star Canteen               F&B      540338   \n",
       "...        ...                    ...               ...         ...   \n",
       "1795  kml_1796         Whampoa Market               F&B      320091   \n",
       "1796  kml_1797        Woodleigh - NEL  Public Transport      347695   \n",
       "1797  kml_1798       Yishun MRT - NSL  Public Transport      769093   \n",
       "1798  kml_1799            Yuhua Place               F&B      600347   \n",
       "1799  kml_1800          Yuhua Village               F&B      600254   \n",
       "\n",
       "                 street_address operator_name   longitude  latitude  \n",
       "0        21 Bukit Batok Central            M1  103.747514  1.350191  \n",
       "1            1 Northpoint Drive            M1  103.836092  1.428036  \n",
       "2           155 Waterloo Street            M1  103.852975  1.300197  \n",
       "3     20 Upper Pickering Street            M1  103.846479  1.286329  \n",
       "4       338 Anchorvale Crescent            M1  103.889654  1.399229  \n",
       "...                         ...           ...         ...       ...  \n",
       "1795           91 Whampoa Drive       Singtel  103.854060  1.323428  \n",
       "1796   400 Upper Serangoon Road       Singtel  103.870818  1.339190  \n",
       "1797        301 Yishun Avenue 2       Singtel  103.834995  1.429525  \n",
       "1798   347 Jurong East Avenue 1       Singtel  103.731580  1.345313  \n",
       "1799  254 Jurong East Street 24       Singtel  103.737738  1.343488  \n",
       "\n",
       "[1800 rows x 8 columns]"
      ]
     },
     "execution_count": 31,
     "metadata": {},
     "output_type": "execute_result"
    }
   ],
   "source": [
    "data = pd.DataFrame(data, columns = ['name', 'location_name', 'location_type', 'postal_code', 'street_address', 'operator_name', 'longitude', 'latitude'])\n",
    "data"
   ]
  },
  {
   "cell_type": "markdown",
   "id": "35d51602-00f3-4b56-8bed-e0739a3a97ff",
   "metadata": {},
   "source": [
    "## Task 1: From the table, what are some of the information you can deduce for each hotspot?"
   ]
  },
  {
   "cell_type": "markdown",
   "id": "95237630-439a-4851-abac-d327dd04c0cb",
   "metadata": {},
   "source": [
    "We can see that each hotspot is placed at a specific location"
   ]
  },
  {
   "cell_type": "code",
   "execution_count": 32,
   "id": "f3db82bb-1a53-4cf4-806c-e568c07d4841",
   "metadata": {},
   "outputs": [
    {
     "name": "stdout",
     "output_type": "stream",
     "text": [
      "There are 1305 unique coordinates for the hotspots\n"
     ]
    }
   ],
   "source": [
    "data['coordinates'] = data['latitude'].astype(str) + \", \" + data['longitude'].astype(str) \n",
    "print(f\"There are {len(data['coordinates'].unique())} unique coordinates for the hotspots\")"
   ]
  },
  {
   "cell_type": "markdown",
   "id": "5faa4baf-7ffc-4aca-88be-a13bd9cddb42",
   "metadata": {},
   "source": [
    "From the table, we can see that there are 1800 unique hotspots, but only 1305 unique coordinates. This means that some of the hotspots are located at the same place"
   ]
  },
  {
   "cell_type": "code",
   "execution_count": 33,
   "id": "186a1cd7-1304-4575-a7c4-eed5e6097fb3",
   "metadata": {},
   "outputs": [
    {
     "name": "stdout",
     "output_type": "stream",
     "text": [
      "There are 1800 unique hotspots\n",
      "THere are 1758 unique location names\n"
     ]
    }
   ],
   "source": [
    "print(f\"There are {len(data['name'].unique())} unique hotspots\")\n",
    "print(f\"THere are {len(data['location_name'].unique())} unique location names\")"
   ]
  },
  {
   "cell_type": "markdown",
   "id": "3f6d11f1-58dc-4e7b-bcae-a192375924e1",
   "metadata": {},
   "source": [
    "## Task 2: Due to a system error, the location type column for the last 200 rows of the dataset has become garbled. Using all earlier rows as well as all other columns in the dataset, build a classification model to predict the location type for these hotspots. You may treat the three rarest location types as one category. (Note: you may wish to create some additional features based on available ones.)"
   ]
  },
  {
   "cell_type": "code",
   "execution_count": 34,
   "id": "3827f091-92ae-48ee-a906-ff71cef288dc",
   "metadata": {},
   "outputs": [
    {
     "name": "stdout",
     "output_type": "stream",
     "text": [
      "location_type\n",
      "Community                  557\n",
      "F&B                        428\n",
      "Healthcare                 415\n",
      "Commercial                 125\n",
      "Welfare Organisation       123\n",
      "Public Transport            46\n",
      "Government                  25\n",
      "School                      24\n",
      "Retail Shop                 23\n",
      "Shopping Mall               16\n",
      "Tourist Attraction          12\n",
      "Dormitory / Care Centre      4\n",
      "Public Worship               2\n",
      "Name: count, dtype: int64\n"
     ]
    }
   ],
   "source": [
    "# 3 rarest locations\n",
    "print(data['location_type'].value_counts())\n",
    "rare_locs = ['Public Worship', 'Dormitory / Care Centre', 'Tourist Attraction']"
   ]
  },
  {
   "cell_type": "code",
   "execution_count": 35,
   "id": "71726564-3334-4970-a2e8-86ee9ef934ad",
   "metadata": {},
   "outputs": [],
   "source": [
    "location_type = ['rare category' if i in rare_locs else i for i in data['location_type']]\n",
    "data['location_type'] = location_type"
   ]
  },
  {
   "cell_type": "code",
   "execution_count": 36,
   "id": "f4bb6dfd-9de7-4889-8f72-9170d9414e57",
   "metadata": {},
   "outputs": [
    {
     "data": {
      "text/plain": [
       "array(['M1', 'MyRepublic', 'Singtel', 'StarHub'], dtype=object)"
      ]
     },
     "execution_count": 36,
     "metadata": {},
     "output_type": "execute_result"
    }
   ],
   "source": [
    "data['operator_name'].unique()"
   ]
  },
  {
   "cell_type": "code",
   "execution_count": 37,
   "id": "51a2c57f-fa34-4c36-881d-4b913b1b6482",
   "metadata": {},
   "outputs": [],
   "source": [
    "operator = [1 if i=='M1' else 2 if i=='MyRepublic' else 3 if i =='Singtel' else 4 for i in data['operator_name']]\n",
    "data['operator_name'] = operator"
   ]
  },
  {
   "cell_type": "code",
   "execution_count": 38,
   "id": "40371510-9e86-4f16-bf38-3c9c94df2d82",
   "metadata": {},
   "outputs": [],
   "source": [
    "train_data = data.iloc[0:1599, :]\n",
    "test_data = data.iloc[1600:,:]\n",
    "xcols = ['postal_code', 'operator_name', 'longitude', 'latitude']\n",
    "ycol = ['location_type']\n",
    "X_train = train_data[xcols]\n",
    "y_train = train_data[ycol]\n",
    "X_test = test_data[xcols]\n",
    "y_test = test_data[ycol]"
   ]
  },
  {
   "cell_type": "code",
   "execution_count": 39,
   "id": "208b4547-cb72-4640-ac89-661ee5028e3b",
   "metadata": {},
   "outputs": [
    {
     "name": "stderr",
     "output_type": "stream",
     "text": [
      "/opt/anaconda3/envs/dsaid_tap_interview/lib/python3.10/site-packages/sklearn/base.py:1151: DataConversionWarning: A column-vector y was passed when a 1d array was expected. Please change the shape of y to (n_samples,), for example using ravel().\n",
      "  return fit_method(estimator, *args, **kwargs)\n"
     ]
    }
   ],
   "source": [
    "from sklearn.ensemble._forest import RandomForestClassifier\n",
    "model = RandomForestClassifier()\n",
    "model = model.fit(X_train, y_train)"
   ]
  },
  {
   "cell_type": "code",
   "execution_count": 40,
   "id": "1463b5b3-3d35-4ee0-a2ce-851a078d0663",
   "metadata": {},
   "outputs": [
    {
     "data": {
      "text/plain": [
       "0.52"
      ]
     },
     "execution_count": 40,
     "metadata": {},
     "output_type": "execute_result"
    }
   ],
   "source": [
    "from sklearn.metrics import accuracy_score, roc_auc_score\n",
    "y_pred = model.predict(X_test)\n",
    "accuracy_score(y_test, y_pred)"
   ]
  },
  {
   "cell_type": "code",
   "execution_count": 41,
   "id": "544377f7-c9d8-4faa-845c-a4f37301d299",
   "metadata": {},
   "outputs": [],
   "source": [
    "# y_test['predicted_location_type'] = y_pred\n",
    "# y_test"
   ]
  },
  {
   "cell_type": "markdown",
   "id": "05237f1a-5fed-47c1-b832-1b06126cd40b",
   "metadata": {},
   "source": [
    "## Task 3: The information has now been recovered from a backup copy of the file. Compared to the true location types, how good was your model? Be prepared to explain the metrics you use to evaluate your model."
   ]
  },
  {
   "cell_type": "code",
   "execution_count": 42,
   "id": "1be86ef0-0dbb-4951-a741-5620fe011f80",
   "metadata": {},
   "outputs": [
    {
     "name": "stdout",
     "output_type": "stream",
     "text": [
      " The accuracy is 0.52\n"
     ]
    }
   ],
   "source": [
    "print(f\" The accuracy is {accuracy_score(y_test, y_pred)}\")"
   ]
  },
  {
   "cell_type": "markdown",
   "id": "8aec186c-a85a-4f6b-8d57-1d8d41e5e3bb",
   "metadata": {},
   "source": [
    "Since this was a multiclass classification, accuracy would be a suitable metric to evaluate the model."
   ]
  },
  {
   "cell_type": "markdown",
   "id": "aae38b74-ba45-415a-bed1-3be112c7d7d5",
   "metadata": {},
   "source": [
    "# 4. Data Visualisation\n",
    "Please run `streamlit run streamlit/main.py` to view dashboard for this question."
   ]
  },
  {
   "cell_type": "code",
   "execution_count": 43,
   "id": "65e95422-3dc1-424b-b190-4673c2dc5c0c",
   "metadata": {},
   "outputs": [],
   "source": [
    "# Prepare summary table\n",
    "dict = [{\"Industry\": \"A\",\n",
    "        \"Median Salary\": 3150,\n",
    "        \"Count\": 83},\n",
    "        {\"Industry\": \"B\",\n",
    "        \"Median Salary\": 3300,\n",
    "        \"Count\": 53},\n",
    "        {\"Industry\": \"C\",\n",
    "        \"Median Salary\": 2650,\n",
    "        \"Count\": 47},    \n",
    "        {\"Industry\": \"D\",\n",
    "        \"Median Salary\": 2400,\n",
    "        \"Count\": 12}, \n",
    "        {\"Industry\": \"E\",\n",
    "        \"Median Salary\": 4100,\n",
    "        \"Count\": 30},\n",
    "        {\"Industry\": \"F\",\n",
    "        \"Median Salary\": 3400,\n",
    "        \"Count\": 23},\n",
    "        {\"Industry\": \"G\",\n",
    "        \"Median Salary\": 2800,\n",
    "        \"Count\": 12},\n",
    "        {\"Industry\": \"H\",\n",
    "        \"Median Salary\": 2300,\n",
    "        \"Count\": 8},\n",
    "        {\"Industry\": \"Others\",\n",
    "        \"Median Salary\": 2900,\n",
    "        \"Count\": 21},\n",
    "\n",
    "        {\"Industry\": \"A\",\n",
    "        \"Median Salary\": 3000,\n",
    "        \"Count\": 23},\n",
    "        {\"Industry\": \"B\",\n",
    "        \"Median Salary\": 3100,\n",
    "        \"Count\": 9},\n",
    "        {\"Industry\": \"C\",\n",
    "        \"Median Salary\": 2600,\n",
    "        \"Count\": 32},    \n",
    "        {\"Industry\": \"D\",\n",
    "        \"Median Salary\": 2400,\n",
    "        \"Count\": 15}, \n",
    "        {\"Industry\": \"E\",\n",
    "        \"Median Salary\": 3900,\n",
    "        \"Count\": 3},\n",
    "        {\"Industry\": \"F\",\n",
    "        \"Median Salary\": 3150,\n",
    "        \"Count\": 7},\n",
    "        {\"Industry\": \"G\",\n",
    "        \"Median Salary\": 2600,\n",
    "        \"Count\": 22},\n",
    "        {\"Industry\": \"H\",\n",
    "        \"Median Salary\": 2200,\n",
    "        \"Count\": 11},\n",
    "        {\"Industry\": \"Others\",\n",
    "        \"Median Salary\": 1900,\n",
    "        \"Count\": 28},     \n",
    "       ]\n",
    "             \n",
    "         \n",
    "         \n",
    "data = pd.DataFrame.from_records(dict)\n",
    "student_group = ['Student Group X']*9 + ['Student Group Y']*9\n",
    "job_nature = (['Closely related to course of study']*4 + ['Somewhat related to course of study']*4 + ['Unrelated to course of study'])*2\n",
    "data['Student Group'] = student_group\n",
    "data['Job Nature'] = job_nature\n",
    "cols = ['Student Group', 'Job Nature', 'Industry', 'Median Salary', 'Count']\n",
    "data = data[cols]   "
   ]
  },
  {
   "cell_type": "code",
   "execution_count": 44,
   "id": "792b0c90-9f5e-4272-9fcd-dbe42c184639",
   "metadata": {},
   "outputs": [
    {
     "data": {
      "text/html": [
       "<div>\n",
       "<style scoped>\n",
       "    .dataframe tbody tr th:only-of-type {\n",
       "        vertical-align: middle;\n",
       "    }\n",
       "\n",
       "    .dataframe tbody tr th {\n",
       "        vertical-align: top;\n",
       "    }\n",
       "\n",
       "    .dataframe thead th {\n",
       "        text-align: right;\n",
       "    }\n",
       "</style>\n",
       "<table border=\"1\" class=\"dataframe\">\n",
       "  <thead>\n",
       "    <tr style=\"text-align: right;\">\n",
       "      <th></th>\n",
       "      <th>Student Group</th>\n",
       "      <th>Job Nature</th>\n",
       "      <th>Industry</th>\n",
       "      <th>Median Salary</th>\n",
       "      <th>Count</th>\n",
       "    </tr>\n",
       "  </thead>\n",
       "  <tbody>\n",
       "    <tr>\n",
       "      <th>0</th>\n",
       "      <td>Student Group X</td>\n",
       "      <td>Closely related to course of study</td>\n",
       "      <td>A</td>\n",
       "      <td>3150</td>\n",
       "      <td>83</td>\n",
       "    </tr>\n",
       "    <tr>\n",
       "      <th>1</th>\n",
       "      <td>Student Group X</td>\n",
       "      <td>Closely related to course of study</td>\n",
       "      <td>B</td>\n",
       "      <td>3300</td>\n",
       "      <td>53</td>\n",
       "    </tr>\n",
       "    <tr>\n",
       "      <th>2</th>\n",
       "      <td>Student Group X</td>\n",
       "      <td>Closely related to course of study</td>\n",
       "      <td>C</td>\n",
       "      <td>2650</td>\n",
       "      <td>47</td>\n",
       "    </tr>\n",
       "    <tr>\n",
       "      <th>3</th>\n",
       "      <td>Student Group X</td>\n",
       "      <td>Closely related to course of study</td>\n",
       "      <td>D</td>\n",
       "      <td>2400</td>\n",
       "      <td>12</td>\n",
       "    </tr>\n",
       "    <tr>\n",
       "      <th>4</th>\n",
       "      <td>Student Group X</td>\n",
       "      <td>Somewhat related to course of study</td>\n",
       "      <td>E</td>\n",
       "      <td>4100</td>\n",
       "      <td>30</td>\n",
       "    </tr>\n",
       "    <tr>\n",
       "      <th>5</th>\n",
       "      <td>Student Group X</td>\n",
       "      <td>Somewhat related to course of study</td>\n",
       "      <td>F</td>\n",
       "      <td>3400</td>\n",
       "      <td>23</td>\n",
       "    </tr>\n",
       "    <tr>\n",
       "      <th>6</th>\n",
       "      <td>Student Group X</td>\n",
       "      <td>Somewhat related to course of study</td>\n",
       "      <td>G</td>\n",
       "      <td>2800</td>\n",
       "      <td>12</td>\n",
       "    </tr>\n",
       "    <tr>\n",
       "      <th>7</th>\n",
       "      <td>Student Group X</td>\n",
       "      <td>Somewhat related to course of study</td>\n",
       "      <td>H</td>\n",
       "      <td>2300</td>\n",
       "      <td>8</td>\n",
       "    </tr>\n",
       "    <tr>\n",
       "      <th>8</th>\n",
       "      <td>Student Group X</td>\n",
       "      <td>Unrelated to course of study</td>\n",
       "      <td>Others</td>\n",
       "      <td>2900</td>\n",
       "      <td>21</td>\n",
       "    </tr>\n",
       "    <tr>\n",
       "      <th>9</th>\n",
       "      <td>Student Group Y</td>\n",
       "      <td>Closely related to course of study</td>\n",
       "      <td>A</td>\n",
       "      <td>3000</td>\n",
       "      <td>23</td>\n",
       "    </tr>\n",
       "    <tr>\n",
       "      <th>10</th>\n",
       "      <td>Student Group Y</td>\n",
       "      <td>Closely related to course of study</td>\n",
       "      <td>B</td>\n",
       "      <td>3100</td>\n",
       "      <td>9</td>\n",
       "    </tr>\n",
       "    <tr>\n",
       "      <th>11</th>\n",
       "      <td>Student Group Y</td>\n",
       "      <td>Closely related to course of study</td>\n",
       "      <td>C</td>\n",
       "      <td>2600</td>\n",
       "      <td>32</td>\n",
       "    </tr>\n",
       "    <tr>\n",
       "      <th>12</th>\n",
       "      <td>Student Group Y</td>\n",
       "      <td>Closely related to course of study</td>\n",
       "      <td>D</td>\n",
       "      <td>2400</td>\n",
       "      <td>15</td>\n",
       "    </tr>\n",
       "    <tr>\n",
       "      <th>13</th>\n",
       "      <td>Student Group Y</td>\n",
       "      <td>Somewhat related to course of study</td>\n",
       "      <td>E</td>\n",
       "      <td>3900</td>\n",
       "      <td>3</td>\n",
       "    </tr>\n",
       "    <tr>\n",
       "      <th>14</th>\n",
       "      <td>Student Group Y</td>\n",
       "      <td>Somewhat related to course of study</td>\n",
       "      <td>F</td>\n",
       "      <td>3150</td>\n",
       "      <td>7</td>\n",
       "    </tr>\n",
       "    <tr>\n",
       "      <th>15</th>\n",
       "      <td>Student Group Y</td>\n",
       "      <td>Somewhat related to course of study</td>\n",
       "      <td>G</td>\n",
       "      <td>2600</td>\n",
       "      <td>22</td>\n",
       "    </tr>\n",
       "    <tr>\n",
       "      <th>16</th>\n",
       "      <td>Student Group Y</td>\n",
       "      <td>Somewhat related to course of study</td>\n",
       "      <td>H</td>\n",
       "      <td>2200</td>\n",
       "      <td>11</td>\n",
       "    </tr>\n",
       "    <tr>\n",
       "      <th>17</th>\n",
       "      <td>Student Group Y</td>\n",
       "      <td>Unrelated to course of study</td>\n",
       "      <td>Others</td>\n",
       "      <td>1900</td>\n",
       "      <td>28</td>\n",
       "    </tr>\n",
       "  </tbody>\n",
       "</table>\n",
       "</div>"
      ],
      "text/plain": [
       "      Student Group                           Job Nature Industry  \\\n",
       "0   Student Group X   Closely related to course of study        A   \n",
       "1   Student Group X   Closely related to course of study        B   \n",
       "2   Student Group X   Closely related to course of study        C   \n",
       "3   Student Group X   Closely related to course of study        D   \n",
       "4   Student Group X  Somewhat related to course of study        E   \n",
       "5   Student Group X  Somewhat related to course of study        F   \n",
       "6   Student Group X  Somewhat related to course of study        G   \n",
       "7   Student Group X  Somewhat related to course of study        H   \n",
       "8   Student Group X         Unrelated to course of study   Others   \n",
       "9   Student Group Y   Closely related to course of study        A   \n",
       "10  Student Group Y   Closely related to course of study        B   \n",
       "11  Student Group Y   Closely related to course of study        C   \n",
       "12  Student Group Y   Closely related to course of study        D   \n",
       "13  Student Group Y  Somewhat related to course of study        E   \n",
       "14  Student Group Y  Somewhat related to course of study        F   \n",
       "15  Student Group Y  Somewhat related to course of study        G   \n",
       "16  Student Group Y  Somewhat related to course of study        H   \n",
       "17  Student Group Y         Unrelated to course of study   Others   \n",
       "\n",
       "    Median Salary  Count  \n",
       "0            3150     83  \n",
       "1            3300     53  \n",
       "2            2650     47  \n",
       "3            2400     12  \n",
       "4            4100     30  \n",
       "5            3400     23  \n",
       "6            2800     12  \n",
       "7            2300      8  \n",
       "8            2900     21  \n",
       "9            3000     23  \n",
       "10           3100      9  \n",
       "11           2600     32  \n",
       "12           2400     15  \n",
       "13           3900      3  \n",
       "14           3150      7  \n",
       "15           2600     22  \n",
       "16           2200     11  \n",
       "17           1900     28  "
      ]
     },
     "execution_count": 44,
     "metadata": {},
     "output_type": "execute_result"
    }
   ],
   "source": [
    "data"
   ]
  },
  {
   "cell_type": "code",
   "execution_count": 45,
   "id": "def58305-6e9d-4e9a-9591-1895de97751b",
   "metadata": {},
   "outputs": [
    {
     "name": "stdout",
     "output_type": "stream",
     "text": [
      "289\n",
      "150\n"
     ]
    }
   ],
   "source": [
    "# Total students\n",
    "student_count = data.groupby('Student Group')['Count'].sum().reset_index()\n",
    "total_X_students = student_count.loc[student_count['Student Group'] == 'Student Group X']['Count'].values[0]\n",
    "total_Y_students = student_count.loc[student_count['Student Group'] == 'Student Group Y']['Count'].values[0]\n",
    "total_students = total_X_students + total_Y_students\n",
    "print(total_X_students)\n",
    "print(total_Y_students)"
   ]
  },
  {
   "cell_type": "code",
   "execution_count": 46,
   "id": "e25cd081-904d-47e0-b21f-7e2e281985bb",
   "metadata": {},
   "outputs": [],
   "source": [
    "# fig1= px.bar(salary_data, x=\"Industry\", y=\"Count\", color='Student Group', title=\"Student Count by Industry\", barmode=\"group\")\n",
    "# fig1.show()\n",
    "# fig2= px.bar(salary_data, x=\"Job Nature\", y=\"Count\", color='Student Group', title=\"Student Count by Job Nature\", barmode=\"group\")\n",
    "# fig2.show()"
   ]
  },
  {
   "cell_type": "code",
   "execution_count": 47,
   "id": "66d72b8e-7439-49ec-9150-55391a066b8f",
   "metadata": {},
   "outputs": [
    {
     "name": "stdout",
     "output_type": "stream",
     "text": [
      "3000.0\n",
      "2761.11\n"
     ]
    }
   ],
   "source": [
    "# Average median salary based on student group\n",
    "avg_median_salary = data.groupby('Student Group')['Median Salary'].mean().reset_index()\n",
    "avg_X_median_salary = round(avg_median_salary.loc[avg_median_salary['Student Group'] == 'Student Group X']['Median Salary'].values[0], 2)\n",
    "avg_Y_median_salary = round(avg_median_salary.loc[avg_median_salary['Student Group'] == 'Student Group Y']['Median Salary'].values[0], 2)\n",
    "total_avg_median_salary = round(avg_median_salary['Median Salary'].mean(), 2)\n",
    "print(avg_X_median_salary)\n",
    "print(avg_Y_median_salary)"
   ]
  },
  {
   "cell_type": "code",
   "execution_count": 48,
   "id": "1eb2e035-ce4b-4c11-84c8-7315d2c18782",
   "metadata": {},
   "outputs": [
    {
     "data": {
      "text/html": [
       "<div>\n",
       "<style scoped>\n",
       "    .dataframe tbody tr th:only-of-type {\n",
       "        vertical-align: middle;\n",
       "    }\n",
       "\n",
       "    .dataframe tbody tr th {\n",
       "        vertical-align: top;\n",
       "    }\n",
       "\n",
       "    .dataframe thead th {\n",
       "        text-align: right;\n",
       "    }\n",
       "</style>\n",
       "<table border=\"1\" class=\"dataframe\">\n",
       "  <thead>\n",
       "    <tr style=\"text-align: right;\">\n",
       "      <th></th>\n",
       "      <th>Student Group</th>\n",
       "      <th>Median Salary</th>\n",
       "    </tr>\n",
       "  </thead>\n",
       "  <tbody>\n",
       "    <tr>\n",
       "      <th>0</th>\n",
       "      <td>Student Group X</td>\n",
       "      <td>3000.000000</td>\n",
       "    </tr>\n",
       "    <tr>\n",
       "      <th>1</th>\n",
       "      <td>Student Group Y</td>\n",
       "      <td>2761.111111</td>\n",
       "    </tr>\n",
       "  </tbody>\n",
       "</table>\n",
       "</div>"
      ],
      "text/plain": [
       "     Student Group  Median Salary\n",
       "0  Student Group X    3000.000000\n",
       "1  Student Group Y    2761.111111"
      ]
     },
     "execution_count": 48,
     "metadata": {},
     "output_type": "execute_result"
    }
   ],
   "source": [
    "avg_median_salary"
   ]
  },
  {
   "cell_type": "code",
   "execution_count": 49,
   "id": "016a24db-91c8-42fd-8fb2-397f85502a12",
   "metadata": {},
   "outputs": [],
   "source": [
    "# fig3 = px.line(salary_data, x=\"Industry\", y=\"Median Salary\", color='Student Group', hover_data='Count', symbol=\"Student Group\")\n",
    "# fig3.show()"
   ]
  }
 ],
 "metadata": {
  "kernelspec": {
   "display_name": "Python 3 (ipykernel)",
   "language": "python",
   "name": "python3"
  },
  "language_info": {
   "codemirror_mode": {
    "name": "ipython",
    "version": 3
   },
   "file_extension": ".py",
   "mimetype": "text/x-python",
   "name": "python",
   "nbconvert_exporter": "python",
   "pygments_lexer": "ipython3",
   "version": "3.10.13"
  }
 },
 "nbformat": 4,
 "nbformat_minor": 5
}
